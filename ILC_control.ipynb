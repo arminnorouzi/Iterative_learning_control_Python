{
 "cells": [
  {
   "cell_type": "code",
   "execution_count": 148,
   "metadata": {},
   "outputs": [],
   "source": [
    "import numpy as np\n",
    "import matplotlib.pyplot as plt \n",
    "import numpy as np\n",
    "from numpy.linalg import inv\n",
    "\n",
    "t0 = 0\n",
    "x0 = 0\n",
    "xdot0 = 0\n",
    "xddot0 = 0\n",
    "theta0 = 0\n",
    "thetadot0 = 0\n",
    "thetaddot0 = 0\n",
    "tf = 30\n",
    "n = 10001\n",
    "m = 15\n",
    "\n",
    "m1   = 6; #[kg]\n",
    "m2  = 3; #[kg]\n",
    "lc  = 0.0983; #[m]\n",
    "I1   = 0.26; #[m]\n",
    "g   = 9.81; #[m/s^2]\n",
    "c = 39;\n",
    "c_t = 4;\n",
    "stepamp = 0.5;\n",
    "k = 40;\n",
    "theta = 0;\n",
    "thetadot = 0;\n",
    "x = 0;\n",
    "xdot = 0;"
   ]
  },
  {
   "cell_type": "code",
   "execution_count": 149,
   "metadata": {},
   "outputs": [],
   "source": [
    "dt = (tf - x0) / (n - 1)\n",
    "t = np.linspace(t0,tf, n)\n",
    "x = np.zeros ([ n,m ])\n",
    "xdot = np.zeros ([  n,m ])\n",
    "xddot = np.zeros ([  n,m  ])\n",
    "theta = np.zeros ([  n,m  ])\n",
    "thetadot = np.zeros ([  n,m  ])\n",
    "thetaddot = np.zeros ([  n,m  ])\n",
    "\n",
    "f = np.zeros ([  n,m  ])\n",
    "tf = np.zeros ([  n,m  ])\n",
    "\n",
    "thetad = np.zeros ([  n,m  ])\n",
    "xd = np.zeros ([  n,m  ])\n",
    "\n",
    "e_x = np.zeros ([  n,m  ])\n",
    "e_t = np.zeros ([  n,m  ])\n",
    "\n",
    "ei_x = np.zeros ([  n,m  ])\n",
    "ei_t = np.zeros ([  n,m  ])\n",
    "\n",
    "ed_x = np.zeros ([  n,m  ])\n",
    "ed_t = np.zeros ([  n,m  ])"
   ]
  },
  {
   "cell_type": "code",
   "execution_count": 150,
   "metadata": {},
   "outputs": [],
   "source": [
    "x[0][0] = x0\n",
    "xdot[0][0] = xdot0\n",
    "xddot[0][0] = xddot0\n",
    "\n",
    "theta[0][0] = theta0\n",
    "thetadot[0][0] = thetadot0\n",
    "thetaddot[0][0] = thetaddot0\n",
    "\n",
    "thetad[0][0] = 0\n",
    "xd[0][0] = 0"
   ]
  },
  {
   "cell_type": "code",
   "execution_count": 155,
   "metadata": {},
   "outputs": [],
   "source": [
    "q_x = 1\n",
    "q_t = 1\n",
    "p_x = 1\n",
    "p_t = 1\n",
    "d_x = 1\n",
    "d_t = 1"
   ]
  },
  {
   "cell_type": "code",
   "execution_count": 156,
   "metadata": {},
   "outputs": [],
   "source": [
    "for j in range (1 , m):\n",
    "    x[0][j] = x0\n",
    "    xdot[0][j] = xdot0\n",
    "    xddot[0][j] = xddot0\n",
    "\n",
    "    theta[0][j] = theta0\n",
    "    thetadot[0][j] = thetadot0\n",
    "    thetaddot[0][j] = thetaddot0\n",
    "    \n",
    "    e_x[0][j] = 0\n",
    "    e_t[0][j] = 0\n",
    "    ed_x[0][j] = 0\n",
    "    ed_t[0][j] = 0    \n",
    "    ei_x[0][j] = 0\n",
    "    ei_t[0][j] = 0\n",
    "        \n",
    "    for i in range (1 , n) :\n",
    "        M = [[(m1+m2), (m2*(lc)*np.cos(theta[i-1][j]))],\n",
    "             [(m2*lc*np.cos(theta[i-1][j])), (m2*(lc**2) + I1)]]\n",
    "        C = [[c*xdot[i-1][j] + k*x[i-1][j] - (m2*(thetadot[i-1][j]**2)*lc*np.sin(theta[i-1][j]))], [m2*g*lc*np.sin(theta[i-1][j])+ c_t*thetadot[i-1][j]]]\n",
    "\n",
    "        G = -np.asmatrix(inv(M))*C;\n",
    "        B = np.asmatrix(inv(M));\n",
    "\n",
    "        # Desired reference\n",
    "\n",
    "        if t[i]>0:\n",
    "            thetad[i][j] = 0.1\n",
    "            xd[i][j] = 0.1\n",
    "        if t[i]>8:\n",
    "            thetad[i][j] = 0.2\n",
    "            xd[i][j] = 0\n",
    "        if t[i]>16:\n",
    "            thetad[i][j] = 0.1\n",
    "            xd[i][j] = 0.1\n",
    "        if t[i]>24:\n",
    "            thetad[i][j] = 0.2\n",
    "            xd[i][j] = 0\n",
    "        e_x[i][j] = xd[i][j] - xdot[i][j]\n",
    "        e_t[i][j] = thetad[i][j] - theta[i][j]\n",
    "\n",
    "        f[i][j] = q_x*f[i][j-1] + p_x*e_x[i][j-1] + d_x*(e_x[i][j-1] - e_x[i-1][j-1])\n",
    "        tf[i][j] = q_t*f[i][j-1] + p_t*e_x[i][j-1] + d_t*(e_t[i][j-1] - e_t[i-1][j-1])\n",
    "\n",
    "        # Open-loop\n",
    "    #     if t[i]>2 and t[i]<4:\n",
    "    #         f[i] = 5\n",
    "    #         tf[i] = 5\n",
    "    #     else:\n",
    "    #         f[i] = 0\n",
    "    #         tf[i] = 0\n",
    "\n",
    "        U = [[f[i][j]],\n",
    "             [tf[i][j]]]\n",
    "        twodot = G + B*U\n",
    "        xddot[i][j] = twodot[0]\n",
    "        thetaddot[i][j] = twodot[1]\n",
    "\n",
    "\n",
    "        xdot[i][j] = xdot[i-1][j] +  (dt * xddot[i][j])\n",
    "        x[i][j] =  x[i-1][j] + (dt * (xdot[i][j]))\n",
    "\n",
    "        thetadot[i][j] = thetadot[i-1][j] +  (dt * thetaddot[i][j])\n",
    "        theta[i][j] =  theta[i-1][j] + (dt * (thetadot[i][j]))\n",
    "\n"
   ]
  },
  {
   "cell_type": "code",
   "execution_count": 157,
   "metadata": {},
   "outputs": [
    {
     "data": {
      "image/png": "[encoded data removed]",
      "text/plain": [
       "<Figure size 432x288 with 1 Axes>"
      ]
     },
     "metadata": {
      "needs_background": "light"
     },
     "output_type": "display_data"
    }
   ],
   "source": [
    "plt.plot(t,  x[:,14],'--')\n",
    "# plt.plot(t,  f,'--')\n",
    "plt.plot(t,  xd[:,14])\n",
    "plt.xlabel('time')\n",
    "plt.ylabel('x [m]')\n",
    "plt.title('x vs xd')\n",
    "plt.show ()"
   ]
  },
  {
   "cell_type": "code",
   "execution_count": 158,
   "metadata": {},
   "outputs": [
    {
     "data": {
      "image/png": "[encoded data removed]",
      "text/plain": [
       "<Figure size 432x288 with 1 Axes>"
      ]
     },
     "metadata": {
      "needs_background": "light"
     },
     "output_type": "display_data"
    }
   ],
   "source": [
    "plt.plot(t,  theta[:,14]*57.2958,'--')\n",
    "plt.plot(t,  thetad[:,14]*57.2958)\n",
    "plt.xlabel('time')\n",
    "plt.ylabel('theta [rad]')\n",
    "plt.title('theta vs Theta_d')\n",
    "plt.show ()"
   ]
  },
  {
   "cell_type": "code",
   "execution_count": null,
   "metadata": {},
   "outputs": [],
   "source": []
  },
  {
   "cell_type": "code",
   "execution_count": null,
   "metadata": {},
   "outputs": [],
   "source": []
  }
 ],
 "metadata": {
  "kernelspec": {
   "display_name": "Python 3",
   "language": "python",
   "name": "python3"
  },
  "language_info": {
   "codemirror_mode": {
    "name": "ipython",
    "version": 3
   },
   "file_extension": ".py",
   "mimetype": "text/x-python",
   "name": "python",
   "nbconvert_exporter": "python",
   "pygments_lexer": "ipython3",
   "version": "3.7.3"
  }
 },
 "nbformat": 4,
 "nbformat_minor": 2
}
